{
  "nbformat": 4,
  "nbformat_minor": 0,
  "metadata": {
    "colab": {
      "name": "Untitled6.ipynb",
      "provenance": [],
      "authorship_tag": "ABX9TyOUhRBPAPcLnpUQgppzI53X",
      "include_colab_link": true
    },
    "kernelspec": {
      "name": "python3",
      "display_name": "Python 3"
    },
    "language_info": {
      "name": "python"
    }
  },
  "cells": [
    {
      "cell_type": "markdown",
      "metadata": {
        "id": "view-in-github",
        "colab_type": "text"
      },
      "source": [
        "<a href=\"https://colab.research.google.com/github/mar305/CAR-LASSO/blob/master/tarea_strings.ipynb\" target=\"_parent\"><img src=\"https://colab.research.google.com/assets/colab-badge.svg\" alt=\"Open In Colab\"/></a>"
      ]
    },
    {
      "cell_type": "code",
      "metadata": {
        "colab": {
          "base_uri": "https://localhost:8080/"
        },
        "id": "w_6C-JIIiMSM",
        "outputId": "935fd278-85a7-41e9-97a8-eee0b73ad447"
      },
      "source": [
        "s1 = \"Había una vez, \"\n",
        "s2 = \"un barquito chiquitito \"\n",
        "s3 = \"que no podía, \"\n",
        "s4 = \"que no podía navegar.\"\n",
        "print((s1+s2)*2+s3*3+s4)"
      ],
      "execution_count": 4,
      "outputs": [
        {
          "output_type": "stream",
          "text": [
            "Había una vez, un barquito chiquitito Había una vez, un barquito chiquitito que no podía, que no podía, que no podía, que no podía navegar.\n"
          ],
          "name": "stdout"
        }
      ]
    },
    {
      "cell_type": "code",
      "metadata": {
        "colab": {
          "base_uri": "https://localhost:8080/"
        },
        "id": "CpHXnYKWjMNI",
        "outputId": "aef0f706-9adf-4af0-8f1a-a234027e78c5"
      },
      "source": [
        "s1=\"Érase un hombre a una nariz pegado,\"\n",
        "s2=\"Érase una nariz superlativa,\"\n",
        "s3=\"Érase una alquitara medio viva,\"\n",
        "s4=\"Érase un peje espada mal barbado;\"\n",
        "print(s1+\"\\n\"+s2+\"\\n\"+s3+\"\\n\"+s4)"
      ],
      "execution_count": 5,
      "outputs": [
        {
          "output_type": "stream",
          "text": [
            "Érase un hombre a una nariz pegado,\n",
            "Érase una nariz superlativa,\n",
            "Érase una alquitara medio viva,\n",
            "Érase un peje espada mal barbado;\n"
          ],
          "name": "stdout"
        }
      ]
    },
    {
      "cell_type": "code",
      "metadata": {
        "colab": {
          "base_uri": "https://localhost:8080/"
        },
        "id": "jnqbSIhOjy2F",
        "outputId": "bb21cde2-8091-458a-8c9e-a58241961aab"
      },
      "source": [
        "s = \"me encantan las matemáticas\"\n",
        "print(s.upper())"
      ],
      "execution_count": 6,
      "outputs": [
        {
          "output_type": "stream",
          "text": [
            "ME ENCANTAN LAS MATEMÁTICAS\n"
          ],
          "name": "stdout"
        }
      ]
    },
    {
      "cell_type": "code",
      "metadata": {
        "colab": {
          "base_uri": "https://localhost:8080/"
        },
        "id": "hjgiNy1ZkDMo",
        "outputId": "321e2a9e-8db5-4cbd-d124-80b3f95ae568"
      },
      "source": [
        "s = \"Mi pasión por el chocolate es superior a mis fuerzas\"\n",
        "len(s)"
      ],
      "execution_count": 7,
      "outputs": [
        {
          "output_type": "execute_result",
          "data": {
            "text/plain": [
              "52"
            ]
          },
          "metadata": {
            "tags": []
          },
          "execution_count": 7
        }
      ]
    },
    {
      "cell_type": "code",
      "metadata": {
        "colab": {
          "base_uri": "https://localhost:8080/"
        },
        "id": "aGn1fdoEmUqS",
        "outputId": "54d0a52d-b4e8-4589-a39a-37647c661633"
      },
      "source": [
        "s = \"Mi pasión por el chocolate es superior a mis fuerzas\"\n",
        "index1=s.find(\"c\")\n",
        "index2=s.find(\"e\",17)\n",
        "index1,index2\n",
        "s_sub=s[17:26]\n",
        "print(s_sub)"
      ],
      "execution_count": 17,
      "outputs": [
        {
          "output_type": "stream",
          "text": [
            "chocolate\n"
          ],
          "name": "stdout"
        }
      ]
    },
    {
      "cell_type": "code",
      "metadata": {
        "colab": {
          "base_uri": "https://localhost:8080/"
        },
        "id": "iW_4yAVyngIO",
        "outputId": "c964972b-c3dc-424d-90bd-adc1df91016c"
      },
      "source": [
        "print(\"Introduce tu nombre\")\n",
        "nombre=input()"
      ],
      "execution_count": 26,
      "outputs": [
        {
          "output_type": "stream",
          "text": [
            "Introduce tu nombre\n",
            "Juan\n"
          ],
          "name": "stdout"
        }
      ]
    },
    {
      "cell_type": "code",
      "metadata": {
        "colab": {
          "base_uri": "https://localhost:8080/"
        },
        "id": "fUQPRcFIoABq",
        "outputId": "718bc087-ba84-4b1b-d1a8-92d012110102"
      },
      "source": [
        "print(\"Introduce tu apellido\")\n",
        "apellido=input()"
      ],
      "execution_count": 27,
      "outputs": [
        {
          "output_type": "stream",
          "text": [
            "Introduce tu apellido\n",
            "Pérez\n"
          ],
          "name": "stdout"
        }
      ]
    },
    {
      "cell_type": "code",
      "metadata": {
        "colab": {
          "base_uri": "https://localhost:8080/"
        },
        "id": "JdRWlzIwoWjC",
        "outputId": "4270bb32-e967-41ea-a166-2233e18638bb"
      },
      "source": [
        "print(\"Introduce tu edad\")\n",
        "edad=int(input())"
      ],
      "execution_count": 28,
      "outputs": [
        {
          "output_type": "stream",
          "text": [
            "Introduce tu edad\n",
            "39\n"
          ],
          "name": "stdout"
        }
      ]
    },
    {
      "cell_type": "code",
      "metadata": {
        "colab": {
          "base_uri": "https://localhost:8080/"
        },
        "id": "3XPgvR1mojF9",
        "outputId": "d8ae285b-036f-47f1-b967-ed9f818de940"
      },
      "source": [
        "print(\"Introduce el nombre de la ciudad donde vives\")\n",
        "ciudad=input()"
      ],
      "execution_count": 25,
      "outputs": [
        {
          "output_type": "stream",
          "text": [
            "Introduce el nombre de la ciudad donde vives\n",
            "Madrid\n"
          ],
          "name": "stdout"
        }
      ]
    },
    {
      "cell_type": "code",
      "metadata": {
        "colab": {
          "base_uri": "https://localhost:8080/"
        },
        "id": "UtZ2_qLHorhV",
        "outputId": "b021f80b-2ba6-4215-ac5d-7b92548bbefe"
      },
      "source": [
        "print(\"Su nombre es {} {}, tiene {} años y actualmente vive en {}\".format(nombre, apellido, edad, ciudad))"
      ],
      "execution_count": 29,
      "outputs": [
        {
          "output_type": "stream",
          "text": [
            "Su nombre es Juan Pérez, tiene 39 años y actualmente vive en Madrid\n"
          ],
          "name": "stdout"
        }
      ]
    }
  ]
}